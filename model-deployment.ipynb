{
 "cells": [
  {
   "cell_type": "code",
   "execution_count": null,
   "metadata": {},
   "outputs": [],
   "source": [
    "import torch\n",
    "from concurrent.futures import ThreadPoolExecutor\n",
    "from transformers import pipeline\n",
    "import pandas as pd"
   ]
  },
  {
   "cell_type": "code",
   "execution_count": null,
   "metadata": {},
   "outputs": [],
   "source": [
    "# Verify GPU Availability\n",
    "available = torch.cuda.is_available()\n",
    "print(available)  # Returns True if GPU is available\n",
    "if available:\n",
    "\tprint(torch.cuda.get_device_name(0))  # Check GPU model name"
   ]
  },
  {
   "cell_type": "markdown",
   "metadata": {},
   "source": [
    "## Zero Shot Classification\n",
    "Load the dataset"
   ]
  },
  {
   "cell_type": "code",
   "execution_count": null,
   "metadata": {},
   "outputs": [],
   "source": [
    "try:\n",
    "    reviews_df = pd.read_csv(\"car_reviews.csv\")\n",
    "except FileNotFoundError:\n",
    "    print(\"The file 'car_reviews.csv' was not found.\")"
   ]
  },
  {
   "cell_type": "markdown",
   "metadata": {},
   "source": [
    "Verify column names"
   ]
  },
  {
   "cell_type": "code",
   "execution_count": null,
   "metadata": {},
   "outputs": [],
   "source": [
    "print(reviews_df.columns)\n",
    "print(reviews_df)"
   ]
  },
  {
   "cell_type": "markdown",
   "metadata": {},
   "source": [
    "Clean column names"
   ]
  },
  {
   "cell_type": "code",
   "execution_count": null,
   "metadata": {},
   "outputs": [],
   "source": [
    "reviews_df.columns = reviews_df.columns.str.strip().str.lower()\n",
    "print(reviews_df.columns)\n",
    "reviews = reviews_df['review'].tolist()"
   ]
  },
  {
   "cell_type": "markdown",
   "metadata": {},
   "source": [
    "Initialize the zero-shot-classification pipeline and Define categories\n",
    "\n",
    "Note: This model is with 406 million parameters. It is very slow when running on the CPU. So we run the classification on the GPU if available."
   ]
  },
  {
   "cell_type": "code",
   "execution_count": null,
   "metadata": {},
   "outputs": [],
   "source": [
    "device = 0 if available else -1  # 0 for GPU, -1 for CPU\n",
    "\n",
    "classifier = pipeline(\"zero-shot-classification\", model=\"facebook/bart-large-mnli\", device=device)\n",
    "\n",
    "    \n",
    "print(classifier.device.type)\n",
    "\n",
    "# Define categories\n",
    "categories = [\n",
    "    \"talks about driving experience\",\n",
    "    \"talks about features\",\n",
    "    \"talks about value for money\",\n",
    "    \"talks about issues\",\n",
    "    \"other\"\n",
    "]"
   ]
  },
  {
   "cell_type": "markdown",
   "metadata": {},
   "source": [
    "Apply the classificaion to each review"
   ]
  },
  {
   "cell_type": "code",
   "execution_count": null,
   "metadata": {},
   "outputs": [],
   "source": [
    "# Determine batch size dynamically (Example: 32 reviews per batch if on GPU)\n",
    "if device == 0:  # GPU available\n",
    "    batch_size = min(len(reviews), 2048)  # Use up to 2048 reviews per batch for GPU\n",
    "else:  # CPU\n",
    "    batch_size = min(len(reviews), 128)  # Limit batch size for CPU\n",
    "\n",
    "# Function to process a single batch\n",
    "def process_batch(batch):\n",
    "    return classifier(batch, candidate_labels=categories)\n",
    "\n",
    "# Process the reviews in parallel batches\n",
    "results = []\n",
    "with ThreadPoolExecutor() as executor:\n",
    "    for i in range(0, len(reviews), batch_size):\n",
    "        batch = reviews[i:i + batch_size]\n",
    "        # Submit each batch to the thread pool\n",
    "        future = executor.submit(process_batch, batch)\n",
    "        # Extend results with the output\n",
    "        results.extend(future.result())\n",
    "\n",
    "# Extract the top category for each review\n",
    "reviews_df['talks_about'] = [result['labels'][0] for result in results]"
   ]
  },
  {
   "cell_type": "markdown",
   "metadata": {},
   "source": [
    "Save the classified reviews to a new CSV file"
   ]
  },
  {
   "cell_type": "code",
   "execution_count": null,
   "metadata": {},
   "outputs": [],
   "source": [
    "reviews_df.to_csv('intermediate_reviews_classified.csv', index=False)"
   ]
  }
 ],
 "metadata": {
  "kernelspec": {
   "display_name": "base",
   "language": "python",
   "name": "python3"
  },
  "language_info": {
   "codemirror_mode": {
    "name": "ipython",
    "version": 3
   },
   "file_extension": ".py",
   "mimetype": "text/x-python",
   "name": "python",
   "nbconvert_exporter": "python",
   "pygments_lexer": "ipython3",
   "version": "3.12.7"
  }
 },
 "nbformat": 4,
 "nbformat_minor": 2
}

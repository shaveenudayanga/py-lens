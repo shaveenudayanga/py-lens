{
 "cells": [
  {
   "cell_type": "code",
   "execution_count": 7,
   "metadata": {},
   "outputs": [],
   "source": [
    "import torch\n",
    "from concurrent.futures import ThreadPoolExecutor\n",
    "from transformers import pipeline\n",
    "import pandas as pd"
   ]
  },
  {
   "cell_type": "code",
   "execution_count": 8,
   "metadata": {},
   "outputs": [
    {
     "name": "stdout",
     "output_type": "stream",
     "text": [
      "False\n"
     ]
    }
   ],
   "source": [
    "# Verify GPU Availability\n",
    "available = torch.cuda.is_available()\n",
    "print(available)  # Returns True if GPU is available\n",
    "if available:\n",
    "\tprint(torch.cuda.get_device_name(0))  # Check GPU model name"
   ]
  },
  {
   "cell_type": "markdown",
   "metadata": {},
   "source": [
    "## Zero Shot Classification\n",
    "Load the dataset"
   ]
  },
  {
   "cell_type": "code",
   "execution_count": 9,
   "metadata": {},
   "outputs": [],
   "source": [
    "try:\n",
    "    reviews_df = pd.read_csv(\"car_reviews.csv\")\n",
    "except FileNotFoundError:\n",
    "    print(\"The file 'car_reviews.csv' was not found.\")"
   ]
  },
  {
   "cell_type": "markdown",
   "metadata": {},
   "source": [
    "Verify column names"
   ]
  },
  {
   "cell_type": "code",
   "execution_count": 10,
   "metadata": {},
   "outputs": [
    {
     "name": "stdout",
     "output_type": "stream",
     "text": [
      "Index(['Review'], dtype='object')\n",
      "                                                 Review\n",
      "0     Bought 2017 Optima Hybrid in November 17. It w...\n",
      "1      You get a lot for your money and great perfor...\n",
      "2      This car is amazing and have no complaints. Y...\n",
      "3     At 11k now in a lease for 39 months and it onl...\n",
      "4     I've owned BMW, Lexus, Mercedes-Benz in the la...\n",
      "...                                                 ...\n",
      "5954  Kia did a great job with this all new car, buy...\n",
      "5955   When purchasing the car, I read that the newl...\n",
      "5956  The new designed Kia Rio is awesome. Much room...\n",
      "5957  Everyone seems so hyped on having the latest &...\n",
      "5958   Kia Rio is an excellent car to drive, it's co...\n",
      "\n",
      "[5959 rows x 1 columns]\n"
     ]
    }
   ],
   "source": [
    "print(reviews_df.columns)\n",
    "print(reviews_df)"
   ]
  },
  {
   "cell_type": "markdown",
   "metadata": {},
   "source": [
    "Clean column names"
   ]
  },
  {
   "cell_type": "code",
   "execution_count": 11,
   "metadata": {},
   "outputs": [
    {
     "name": "stdout",
     "output_type": "stream",
     "text": [
      "Index(['review'], dtype='object')\n"
     ]
    }
   ],
   "source": [
    "reviews_df.columns = reviews_df.columns.str.strip().str.lower()\n",
    "print(reviews_df.columns)\n",
    "reviews = reviews_df['review'].tolist()"
   ]
  },
  {
   "cell_type": "markdown",
   "metadata": {},
   "source": [
    "Initialize the zero-shot-classification pipeline and Define categories\n",
    "\n",
    "Note: This model is with 406 million parameters. It is very slow when running on the CPU. So we run the classification on the GPU if available."
   ]
  },
  {
   "cell_type": "code",
   "execution_count": 12,
   "metadata": {},
   "outputs": [
    {
     "name": "stderr",
     "output_type": "stream",
     "text": [
      "Device set to use cpu\n"
     ]
    },
    {
     "name": "stdout",
     "output_type": "stream",
     "text": [
      "cpu\n"
     ]
    }
   ],
   "source": [
    "device = 0 if available else -1  # 0 for GPU, -1 for CPU\n",
    "\n",
    "classifier = pipeline(\"zero-shot-classification\", model=\"facebook/bart-large-mnli\", device=device)\n",
    "\n",
    "    \n",
    "print(classifier.device.type)\n",
    "\n",
    "# Define categories\n",
    "categories = [\n",
    "    \"talks about driving experience\",\n",
    "    \"talks about features\",\n",
    "    \"talks about value for money\",\n",
    "    \"talks about issues\",\n",
    "    \"other\"\n",
    "]"
   ]
  },
  {
   "cell_type": "markdown",
   "metadata": {},
   "source": [
    "Apply the classificaion to each review"
   ]
  },
  {
   "cell_type": "code",
   "execution_count": 12,
   "metadata": {},
   "outputs": [],
   "source": [
    "# Determine batch size dynamically (Example: 32 reviews per batch if on GPU)\n",
    "if device == 0:  # GPU available\n",
    "    batch_size = min(len(reviews), 2048)  # Use up to 2048 reviews per batch for GPU\n",
    "else:  # CPU\n",
    "    batch_size = min(len(reviews), 128)  # Limit batch size for CPU\n",
    "\n",
    "# Function to process a single batch\n",
    "def process_batch(batch):\n",
    "    return classifier(batch, candidate_labels=categories)\n",
    "\n",
    "# Process the reviews in parallel batches\n",
    "results = []\n",
    "with ThreadPoolExecutor() as executor:\n",
    "    for i in range(0, len(reviews), batch_size):\n",
    "        batch = reviews[i:i + batch_size]\n",
    "        # Submit each batch to the thread pool\n",
    "        future = executor.submit(process_batch, batch)\n",
    "        # Extend results with the output\n",
    "        results.extend(future.result())\n",
    "\n",
    "# Extract the top category for each review\n",
    "reviews_df['talks_about'] = [result['labels'][0] for result in results]"
   ]
  },
  {
   "cell_type": "markdown",
   "metadata": {},
   "source": [
    "## Sentiment Analysis"
   ]
  },
  {
   "cell_type": "markdown",
   "metadata": {},
   "source": [
    "load the setiment analysis model"
   ]
  },
  {
   "cell_type": "code",
   "execution_count": 13,
   "metadata": {},
   "outputs": [
    {
     "name": "stderr",
     "output_type": "stream",
     "text": [
      "Device set to use cpu\n"
     ]
    }
   ],
   "source": [
    "device = 0 if torch.cuda.is_available() else -1\n",
    "sentiment_classifier = pipeline(\"sentiment-analysis\", model=\"distilbert-base-uncased-finetuned-sst-2-english\", device=device)"
   ]
  },
  {
   "cell_type": "markdown",
   "metadata": {},
   "source": [
    "Apply the sentiment analysis model to the review column in the reviews_df DataFrame"
   ]
  },
  {
   "cell_type": "code",
   "execution_count": 14,
   "metadata": {},
   "outputs": [],
   "source": [
    "# Function to analyze sentiment with truncation\n",
    "def analyze_sentiment(batch):\n",
    "    return sentiment_classifier(batch, truncation=True)\n",
    "\n",
    "# Convert reviews to a list\n",
    "reviews = reviews_df['review'].tolist()\n",
    "\n",
    "# Process reviews in batches\n",
    "from concurrent.futures import ThreadPoolExecutor\n",
    "\n",
    "batch_size = 128 if device == -1 else 512  # Adjust batch size based on system capacity\n",
    "sentiments = []\n",
    "with ThreadPoolExecutor() as executor:\n",
    "    for i in range(0, len(reviews), batch_size):\n",
    "        batch = reviews[i:i + batch_size]\n",
    "        future = executor.submit(analyze_sentiment, batch)\n",
    "        sentiments.extend(future.result())\n",
    "\n",
    "# Add sentiment labels to the DataFrame\n",
    "reviews_df['sentiment'] = [result['label'] for result in sentiments]\n"
   ]
  },
  {
   "cell_type": "markdown",
   "metadata": {},
   "source": [
    "Save the classified reviews to a new CSV file"
   ]
  },
  {
   "cell_type": "code",
   "execution_count": null,
   "metadata": {},
   "outputs": [
    {
     "ename": "",
     "evalue": "",
     "output_type": "error",
     "traceback": [
      "\u001b[1;31mRunning cells with 'venv' requires the ipykernel package.\n",
      "\u001b[1;31mRun the following command to install 'ipykernel' into the Python environment. \n",
      "\u001b[1;31mCommand: '\"c:/Users/Dell - PC/OneDrive/Desktop/Python_Project/Task_2/the-wheels-in-motion/venv/Scripts/python.exe\" -m pip install ipykernel -U --force-reinstall'"
     ]
    }
   ],
   "source": [
    "reviews_df.to_csv('intermediate_reviews_classified.csv', index=False)"
   ]
  }
 ],
 "metadata": {
  "kernelspec": {
   "display_name": "base",
   "language": "python",
   "name": "python3"
  },
  "language_info": {
   "codemirror_mode": {
    "name": "ipython",
    "version": 3
   },
   "file_extension": ".py",
   "mimetype": "text/x-python",
   "name": "python",
   "nbconvert_exporter": "python",
   "pygments_lexer": "ipython3",
   "version": "3.12.7"
  }
 },
 "nbformat": 4,
 "nbformat_minor": 2
}

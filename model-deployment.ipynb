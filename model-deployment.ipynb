{
 "cells": [
  {
   "cell_type": "code",
   "execution_count": null,
   "metadata": {},
   "outputs": [],
   "source": [
    "import torch\n",
    "from concurrent.futures import ThreadPoolExecutor\n",
    "from transformers import pipeline\n",
    "import pandas as pd\n",
    "import matplotlib.pyplot as plt"
   ]
  },
  {
   "cell_type": "markdown",
   "metadata": {},
   "source": [
    "Verify GPU Availability"
   ]
  },
  {
   "cell_type": "code",
   "execution_count": null,
   "metadata": {},
   "outputs": [],
   "source": [
    "available = torch.cuda.is_available()\n",
    "print(available)  # Returns True if GPU is available\n",
    "if available:\n",
    "\tprint(torch.cuda.get_device_name(0))  # Check GPU model name\n",
    "device = 0 if available else -1  # 0 for GPU, -1 for CPU"
   ]
  },
  {
   "cell_type": "markdown",
   "metadata": {},
   "source": [
    "Load the dataset"
   ]
  },
  {
   "cell_type": "code",
   "execution_count": null,
   "metadata": {},
   "outputs": [],
   "source": [
    "try:\n",
    "    reviews_df = pd.read_csv(\"car_reviews.csv\")\n",
    "except FileNotFoundError:\n",
    "    print(\"The file 'car_reviews.csv' was not found.\")"
   ]
  },
  {
   "cell_type": "markdown",
   "metadata": {},
   "source": [
    "Verify column names"
   ]
  },
  {
   "cell_type": "code",
   "execution_count": null,
   "metadata": {},
   "outputs": [],
   "source": [
    "print(reviews_df.columns)\n",
    "print(reviews_df)"
   ]
  },
  {
   "cell_type": "markdown",
   "metadata": {},
   "source": [
    "Clean column names"
   ]
  },
  {
   "cell_type": "code",
   "execution_count": null,
   "metadata": {},
   "outputs": [],
   "source": [
    "reviews_df.columns = reviews_df.columns.str.strip().str.lower()\n",
    "print(reviews_df.columns)\n",
    "reviews = reviews_df['review'].tolist()"
   ]
  },
  {
   "cell_type": "markdown",
   "metadata": {},
   "source": [
    "## Zero Shot Classification"
   ]
  },
  {
   "cell_type": "markdown",
   "metadata": {},
   "source": [
    "Initialize the zero-shot-classification pipeline and Define categories\n",
    "\n",
    "Note: This model is with 406 million parameters. It is very slow when running on the CPU. So we run the classification on the GPU if available."
   ]
  },
  {
   "cell_type": "code",
   "execution_count": null,
   "metadata": {},
   "outputs": [],
   "source": [
    "classifier = pipeline(\"zero-shot-classification\", model=\"facebook/bart-large-mnli\", device=device)\n",
    "\n",
    "    \n",
    "print(classifier.device.type)\n",
    "\n",
    "# Define categories\n",
    "categories = [\n",
    "    \"talks about driving experience\",\n",
    "    \"talks about features\",\n",
    "    \"talks about value for money\",\n",
    "    \"talks about issues\",\n",
    "    \"other\"\n",
    "]"
   ]
  },
  {
   "cell_type": "markdown",
   "metadata": {},
   "source": [
    "Apply the classificaion to each review"
   ]
  },
  {
   "cell_type": "code",
   "execution_count": null,
   "metadata": {},
   "outputs": [],
   "source": [
    "# Determine batch size dynamically (Example: 32 reviews per batch if on GPU)\n",
    "if device == 0:  # GPU available\n",
    "    batch_size = min(len(reviews), 1024)  # Use up to 1024 reviews per batch for GPU\n",
    "else:  # CPU\n",
    "    batch_size = min(len(reviews), 32)  # Limit batch size for CPU\n",
    "\n",
    "# Function to process a single batch\n",
    "def process_batch(batch):\n",
    "    return classifier(batch, candidate_labels=categories)\n",
    "\n",
    "# Process the reviews in parallel batches\n",
    "results = []\n",
    "with ThreadPoolExecutor() as executor:\n",
    "    for i in range(0, len(reviews), batch_size):\n",
    "        batch = reviews[i:i + batch_size]\n",
    "        # Submit each batch to the thread pool\n",
    "        future = executor.submit(process_batch, batch)\n",
    "        # Extend results with the output\n",
    "        results.extend(future.result())\n",
    "\n",
    "# Extract the top category for each review\n",
    "reviews_df['talks_about'] = [result['labels'][0] for result in results]"
   ]
  },
  {
   "cell_type": "markdown",
   "metadata": {},
   "source": [
    "## Sentiment Analysis"
   ]
  },
  {
   "cell_type": "markdown",
   "metadata": {},
   "source": [
    "\n",
    "Load the setiment analysis model"
   ]
  },
  {
   "cell_type": "code",
   "execution_count": null,
   "metadata": {},
   "outputs": [],
   "source": [
    "sentiment_classifier = pipeline(\"sentiment-analysis\", model=\"distilbert-base-uncased-finetuned-sst-2-english\", device=device)"
   ]
  },
  {
   "cell_type": "markdown",
   "metadata": {},
   "source": [
    "To handle reviews longer than 512 tokens use truncate method"
   ]
  },
  {
   "cell_type": "code",
   "execution_count": null,
   "metadata": {},
   "outputs": [],
   "source": [
    "# Function to analyze sentiment with truncation\n",
    "def analyze_sentiment(batch):\n",
    "    return sentiment_classifier(batch, truncation=True)\n",
    "\n",
    "# Convert reviews to a list\n",
    "reviews = reviews_df['review'].tolist()\n",
    "\n",
    "# Process reviews in batches\n",
    "from concurrent.futures import ThreadPoolExecutor\n",
    "\n",
    "batch_size = 128 if device == -1 else 512  # Adjust batch size based on system capacity\n",
    "sentiments = []\n",
    "with ThreadPoolExecutor() as executor:\n",
    "    for i in range(0, len(reviews), batch_size):\n",
    "        batch = reviews[i:i + batch_size]\n",
    "        future = executor.submit(analyze_sentiment, batch)\n",
    "        sentiments.extend(future.result())\n",
    "\n",
    "# Add sentiment labels to the DataFrame\n",
    "reviews_df['sentiment'] = [result['label'] for result in sentiments]\n"
   ]
  },
  {
   "cell_type": "markdown",
   "metadata": {},
   "source": [
    "Save the classified reviews to a new CSV file"
   ]
  },
  {
   "cell_type": "code",
   "execution_count": null,
   "metadata": {},
   "outputs": [],
   "source": [
    "reviews_df.to_csv('classified_sentiment_reviews.csv', index=False)"
   ]
  },
  {
   "cell_type": "markdown",
   "metadata": {},
   "source": [
    "# Visualization\n",
    "Visualization of sentiment spread"
   ]
  },
  {
   "cell_type": "code",
   "execution_count": null,
   "metadata": {},
   "outputs": [],
   "source": [
    "# Load the Classified reviews CSV file with sentiments\n",
    "reviews_df = pd.read_csv('classified_sentiment_reviews.csv')\n",
    "\n",
    "# Check if 'sentiment' column exists\n",
    "if 'sentiment' in reviews_df.columns:\n",
    "    sentiment_counts = reviews_df['sentiment'].value_counts()\n",
    "\n",
    "    # Plot sentiment spread as a bar chart \n",
    "    plt.figure(figsize=(8, 6)) \n",
    "    sentiment_counts.plot(kind='bar', color=['skyblue', 'orange']) \n",
    "    plt.title('Sentiment Spread', fontsize=16) \n",
    "    plt.xlabel('Sentiment', fontsize=12) \n",
    "    plt.ylabel('Count', fontsize=12) \n",
    "    plt.xticks(rotation=0) \n",
    "    plt.tight_layout() \n",
    "    plt.show()\n",
    "else:\n",
    "    print(\"The 'sentiment' column does not exist in the CSV file.\")"
   ]
  },
  {
   "cell_type": "markdown",
   "metadata": {},
   "source": [
    "Visualization the spread of the review category"
   ]
  },
  {
   "cell_type": "code",
   "execution_count": null,
   "metadata": {},
   "outputs": [],
   "source": [
    "# Check if 'talks_about' column exists\n",
    "if 'talks_about' in reviews_df.columns:\n",
    "    talks_about_counts = reviews_df['talks_about'].value_counts()\n",
    "\n",
    "    # Plot 'talks_about' categories as a bar chart\n",
    "    plt.figure(figsize=(10, 6))\n",
    "    talks_about_counts.plot(kind='bar', color='purple','skyblue',)\n",
    "    plt.title('Talks About Categories Spread', fontsize=16)\n",
    "    plt.xlabel('Talks About Category', fontsize=12)\n",
    "    plt.ylabel('Count', fontsize=12)\n",
    "    plt.xticks(rotation=45)\n",
    "    plt.tight_layout()\n",
    "    plt.show()\n",
    "else:\n",
    "    print(\"The 'talks_about' column does not exist in the CSV file.\")"
   ]
  }
 ],
 "metadata": {
  "kernelspec": {
   "display_name": "base",
   "language": "python",
   "name": "python3"
  },
  "language_info": {
   "codemirror_mode": {
    "name": "ipython",
    "version": 3
   },
   "file_extension": ".py",
   "mimetype": "text/x-python",
   "name": "python",
   "nbconvert_exporter": "python",
   "pygments_lexer": "ipython3",
   "version": "3.12.7"
  }
 },
 "nbformat": 4,
 "nbformat_minor": 2
}
